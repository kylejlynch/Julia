{
 "cells": [
  {
   "cell_type": "markdown",
   "id": "60e918b9",
   "metadata": {},
   "source": [
    "## Lazy Model of the Hydrogen Atom with Julia"
   ]
  },
  {
   "cell_type": "markdown",
   "id": "3fd57b0f",
   "metadata": {},
   "source": [
    "This notebook makes use of the 3-D wave equation to model the hydrogen atom. I refer to it as a lazy model because of the assumptions that I make, which can be found in the sections below. If you have any questions/comments please feel free to reach out at kylejlynch@gmail.com. Enjoy!"
   ]
  },
  {
   "cell_type": "markdown",
   "id": "0b535051",
   "metadata": {},
   "source": [
    "### Motivation\n",
    "\n",
    "I'll start with providing some logic for why using the wave equation can be used for modeling protons and electrons.\n",
    "Let's first describe the electric potential in 1, 2, and 3-dimensions using Gauss's Law. In simple terms, Gauss's Law (derived from Gauss's divergence theorem) relates what's happening inside a volume to what's happening on an arbitrary surface that encloses said volume. Specifically, if a charge $Q_{enc}$ is enclosed by an arbitrary surface $S$, then the the following holds true for electric field $\\vec{E}$ \n",
    "\n",
    "$$\\iint_{s}\\vec{E} \\cdot \\vec{n} \\; dS = \\frac{Q_{enc}}{\\epsilon_{0}} \\tag{1}$$\n",
    "\n",
    "which can be described as the summation of the electric field contributions through the surface $S$ is equivalent to $Q_{enc}$ divided by the permittivity of free space $\\epsilon_{0}$.\n",
    "\n",
    "For our use case we can solve for the electric field $$E = \\frac{Q_{enc}}{\\epsilon_{0} S} \\tag{2}$$\n",
    "where $S$ corresponds the the surface area of the surface surrounding $Q_{enc}$. The figure below shows the values for $S$ in 1, 2 and 3 dimensions.\n",
    "<br><br>\n",
    "*Note: I know the idea of \"surface area\" doesn't fit well in 1 and 2 dimensions, but as an example the \"surface area\" of a circle in 2-D is just the circumference of the circle, $2\\pi r$*."
   ]
  },
  {
   "cell_type": "markdown",
   "id": "72697c81",
   "metadata": {},
   "source": [
    "<img src=\"img/gauss_surfaces.png\" alt=\"gaussian_surfaces\" style=\"width: 350px;\"/>"
   ]
  },
  {
   "cell_type": "markdown",
   "id": "3c7d43c8",
   "metadata": {},
   "source": [
    "Note: For the 1-D case, you can derive this from the fact that the \"volume\" equivalent would just be $2r$, and that generally speaking $\\frac{dV}{dr} = Area$, therefore $S = 2$. You can read more about this in [2] on N-Spheres (1-D is a 0-sphere)."
   ]
  },
  {
   "cell_type": "markdown",
   "id": "5159e08f",
   "metadata": {},
   "source": [
    "Let's plug in the values for $S$ for each case in to $Eqn$ $2$, yielding:\n",
    "$$E = \\frac{Q_{enc}}{2\\epsilon_{0}} \\tag{3.1}$$\n",
    "$$E = \\frac{Q_{enc}}{2\\pi\\epsilon_{0}r} \\tag{3.2}$$\n",
    "$$E = \\frac{Q_{enc}}{4\\pi\\epsilon_{0}r^{2}} \\tag{3.3}$$\n",
    "We know that the potential is $\\vec{V} =- \\int \\vec{E} \\cdot d\\vec{r}$\n",
    "<br><br>\n",
    "Let's now calculate $V$ for each dimensionality.\n",
    "$$V = -\\frac{Q_{enc}}{2\\epsilon_{0}} r\\tag{4.1}$$\n",
    "$$V = -\\frac{Q_{enc}}{2\\pi\\epsilon_{0}} ln(r) \\tag{4.2}$$\n",
    "$$V = -\\frac{Q_{enc}}{4\\pi\\epsilon_{0}r} \\tag{4.3}$$"
   ]
  },
  {
   "cell_type": "markdown",
   "id": "9ec78c83",
   "metadata": {},
   "source": [
    "The most important take away from the result above is the proportionality between $V$ and $r$. For 1, 2, and 3 dimensions the the electric potential is\n",
    "$$V \\varpropto -r$$\n",
    "$$V \\varpropto -ln(r)$$\n",
    "$$V \\varpropto -\\frac{1}{r}$$\n",
    "respectively."
   ]
  },
  {
   "cell_type": "markdown",
   "id": "128e0ca4",
   "metadata": {},
   "source": [
    "With code I'll leave in the appendix, it can be shown by adding a point source to the wave equation, that is (shown here for the 3-D case),\n",
    "$$\\frac{\\partial ^{2}u}{\\partial t^{2}} = c^{2} (\\frac{\\partial ^{2}u}{\\partial x^{2}} + \\frac{\\partial ^{2}u}{\\partial y^{2}} + \\frac{\\partial ^{2}u}{\\partial z^{2}}) + \\delta(x,y,z) \\tag{5} ,$$\n",
    "\n",
    "we see a similar trend for the solutions of wave equation in 1, 2 and 3-D (2-D and 3-D are cross-sections).\n",
    "<img src=\"img/1_2_3_reg.png\" alt=\"1_D_point\" style=\"width: 1000px;\"/>\n",
    "<br><br>\n",
    "We can see that there is a symmetry between Gauss's law and the point source solutions to the wave equation."
   ]
  },
  {
   "cell_type": "markdown",
   "id": "63982235",
   "metadata": {},
   "source": [
    "### Modeling the Hydrogen Atom (Lazily)\n",
    "\n",
    "The hydrogen atom consists of two particles, one proton and one electron, which in the classical model \"orbits\" the proton. With more of a copenhagen quantum mechanical approach, the electron is viewed more of a probability distribution around the proton. This lazy model will be in the spirit of both the classical and quantum mechanical perspectives.\n",
    "<br><br>\n",
    "The proton will be modeled as a positive point source with a magnitude of 1, and the electron will be distributed around the proton in a sphere-like pattern consisting of 26 points, each having 1/26 the magnitude of the proton. The image below shows how I modeled the points (blue dots). The green lines in the figure are just to emphasize the sphere structure.\n",
    "I originally built the code to do this in Python so I just pulled the screenshot from there."
   ]
  },
  {
   "cell_type": "markdown",
   "id": "5c085f02",
   "metadata": {},
   "source": [
    "<img src=\"img/electrons.png\" alt=\"1_D_point\" style=\"width: 400px;\"/>"
   ]
  },
  {
   "cell_type": "markdown",
   "id": "ef618db6",
   "metadata": {},
   "source": [
    "Now on to the code! Please see my other document on <a href="https://github.com/kylejlynch/Julia/blob/main/building_numerical_solver.ipynb">Building a Numerical Solver from Scratch in Julia</a> if you need help understanding the code below.\n",
    "<br><br>\n",
    "Let's set up our variables. One of the reasons I call this lazy is due to the fact that I don't pay attention to things like the speed of light $c$ or the distance from the proton to the electron (Bohr radius), I just picked some arbitrary values. "
   ]
  },
  {
   "cell_type": "code",
   "execution_count": 4,
   "id": "a9723427",
   "metadata": {},
   "outputs": [],
   "source": [
    "T = 20\n",
    "L = 200\n",
    "n_t = 200 + 1\n",
    "n_x = 200 + 1\n",
    "n_y = 200 + 1\n",
    "n_z = 200 + 1\n",
    "ts = range(0, T; length=n_t)\n",
    "xs = range(-L/2, L/2; length=n_x)\n",
    "ys = range(-L/2, L/2; length=n_y)\n",
    "zs = range(-L/2, L/2; length=n_z)\n",
    "Δt = ts[2] - ts[1]\n",
    "Δx = xs[2] - xs[1]\n",
    "Δy = ys[2] - ys[1]\n",
    "Δz = zs[2] - zs[1]\n",
    "c = 5;"
   ]
  },
  {
   "cell_type": "code",
   "execution_count": 5,
   "id": "d001e4b7",
   "metadata": {},
   "outputs": [],
   "source": [
    "u = zeros(n_t, n_x, n_y, n_z);"
   ]
  },
  {
   "cell_type": "code",
   "execution_count": 6,
   "id": "9741ca3f",
   "metadata": {},
   "outputs": [
    {
     "data": {
      "text/plain": [
       "dirac_delta (generic function with 1 method)"
      ]
     },
     "execution_count": 6,
     "metadata": {},
     "output_type": "execute_result"
    }
   ],
   "source": [
    "# Code for the electron positions\n",
    "theta_list = [0,pi/4,2*pi/4,3*pi/4,4*pi/4,5*pi/4,6*pi/4,7*pi/4]\n",
    "phi_list = [0,pi/4,2*pi/4,3*pi/4,4*pi/4]\n",
    "\n",
    "function spherical_to_cartesian(r, theta, phi)\n",
    "    \"\"\"\n",
    "    Converts spherical coordinates to cartesian, using math convention.\n",
    "\n",
    "    Parameters\n",
    "    ----------\n",
    "    r : float\n",
    "        radius from origin\n",
    "    theta : float\n",
    "        X-Y plane, 0 to 2pi.\n",
    "    phi : float\n",
    "        +Z to -Z, 0 to pi.\n",
    "\n",
    "    Returns\n",
    "    -------\n",
    "    x, y, z\n",
    "\n",
    "    \"\"\"\n",
    "    x = round(r*sin(phi)*cos(theta); digits = 4)\n",
    "    y = round(r*sin(phi)*sin(theta); digits = 4)\n",
    "    z = round(r*cos(phi); digits = 4)\n",
    "    return x, y, z\n",
    "end\n",
    "\n",
    "coord_list = []\n",
    "for theta in theta_list, phi in phi_list\n",
    "    cart_tup = spherical_to_cartesian(20,theta,phi)\n",
    "    trans_cart_tup = Tuple(Int(abs(round(i - 100))) for i in cart_tup)\n",
    "    push!(coord_list,trans_cart_tup)\n",
    "end\n",
    "final_coords = unique(coord_list)\n",
    "\n",
    "# function for the delta function\n",
    "function dirac_delta(x, y, z, x_origin, y_origin, z_origin, electron_coords)\n",
    "    if x == x_origin && y == y_origin && z == z_origin\n",
    "        return 1\n",
    "        \n",
    "    elseif (x,y,z) in electron_coords\n",
    "        return -1/26\n",
    "    else\n",
    "        return 0\n",
    "    end\n",
    "end"
   ]
  },
  {
   "cell_type": "code",
   "execution_count": 7,
   "id": "73e0da1e",
   "metadata": {},
   "outputs": [],
   "source": [
    "# Set initial condition\n",
    "for x in 2:n_x-1, y in 2:n_y-1, z in 2:n_z-1\n",
    "    u[1,x,y,z] = dirac_delta(x, y, z, 100, 100, 100, final_coords) \n",
    "end\n",
    "\n",
    "for x in 2:n_x-1, y in 2:n_y-1, z in 2:n_z-1\n",
    "    u[2,x,y,z] = (\n",
    "        0.5 * (c*(Δt/Δx))^2 * (u[1, x+1, y, z] - 2*u[1, x, y, z] + u[1, x-1, y, z]) \n",
    "        + 0.5 * (c*(Δt/Δy))^2 * (u[1, x, y+1, z] - 2*u[1, x, y, z] + u[1, x, y-1, z]) \n",
    "        + 0.5 * (c*(Δt/Δz))^2 * (u[1, x, y, z+1] - 2*u[1, x, y, z] + u[1, x, y, z-1]) \n",
    "        + u[1, x, y, z]\n",
    "        + dirac_delta(x, y, z, 100, 100, 100, final_coords) \n",
    "    )\n",
    "end\n",
    "\n",
    "for t in 2:n_t-1, x in 2:n_x-1, y in 2:n_y-1, z in 2:n_z-1\n",
    "    du_xx = (u[t, x+1, y, z] - 2*u[t, x, y, z] + u[t, x-1, y, z])/Δx^2\n",
    "    du_yy = (u[t, x, y+1, z] - 2*u[t, x, y, z] + u[t, x, y-1, z])/Δy^2\n",
    "    du_zz = (u[t, x, y, z+1] - 2*u[t, x, y, z] + u[t, x, y, z-1])/Δz^2\n",
    "    u[t+1, x, y, z] = c^2 * (Δt^2) *(du_xx + du_yy + du_zz) + 2*u[t, x, y, z] - u[t-1, x, y, z] + dirac_delta(x, y, z, 100, 100, 100, final_coords) \n",
    "end"
   ]
  },
  {
   "cell_type": "code",
   "execution_count": 49,
   "id": "31f076af",
   "metadata": {},
   "outputs": [],
   "source": [
    "using Plots\n",
    "\n",
    "anim = @animate for (i, t) in enumerate(ts)\n",
    "    plot(\n",
    "        u[i,50:150,50:150,50:150],\n",
    "        xlims=(-50,50),\n",
    "        ylims=(-50,50),\n",
    "        zlims=(-50,50),\n",
    "        label=\"\"\n",
    "    )\n",
    "end\n",
    "gif(anim, \"wave_3d_atom.gif\"; show_msg = false)\n",
    ";"
   ]
  },
  {
   "cell_type": "code",
   "execution_count": 51,
   "id": "2cddf74e",
   "metadata": {
    "scrolled": false
   },
   "outputs": [],
   "source": [
    "using Plots\n",
    "\n",
    "anim = @animate for (i, t) in enumerate(ts)\n",
    "    plot(\n",
    "        xs,\n",
    "        u[i,:,100,100];\n",
    "        title = \"t = $(i-1)Δt\",\n",
    "        legend = false,\n",
    "        xlims=(-100,100),\n",
    "        ylims=(-1,2),\n",
    "        label=\"\"\n",
    "    )\n",
    "end\n",
    "gif(anim, \"wave_3d_ux_atom.gif\"; show_msg = false)\n",
    ";"
   ]
  },
  {
   "cell_type": "markdown",
   "id": "b0ea9397",
   "metadata": {},
   "source": [
    "Let's emphasize the plots by comparing with what we get with just a single point source (only a proton). The \"Hydrogen\" atom is on the left, and the single point source is on the right."
   ]
  },
  {
   "cell_type": "markdown",
   "id": "13e4807f",
   "metadata": {},
   "source": [
    "<table>\n",
    "    <tr>\n",
    "        <td> <img src=\"img/wave_3d_atom.gif\" alt=\"3_D_atop\" style=\"width: 400px;\"/> </td>\n",
    "        <td> <img src=\"img/wave_3d_point.gif\" alt=\"3_D_point\" style=\"width: 400px;\"/> </td>\n",
    "    </tr>\n",
    "    <tr>\n",
    "        <td> <img src=\"img/wave_3d_ux_atom.gif\" alt=\"3_D_ux_atom\" style=\"width: 400px;\"/> </td>\n",
    "        <td> <img src=\"img/wave_3d_ux_point.gif\" alt=\"3_D_point_ux\" style=\"width: 400px;\"/> </td>\n",
    "    </tr>\n",
    "</table>"
   ]
  },
  {
   "cell_type": "markdown",
   "id": "0ebca5ad",
   "metadata": {},
   "source": [
    "### References\n",
    "1. Briggs, William L., Lyle Cochran, and Bernard Gillett. Calculus for scientists and engineers. Pearson Education, 2014.\n",
    "2. https://en.wikipedia.org/wiki/N-sphere\n",
    "3. https://en.wikipedia.org/wiki/Electric_potential"
   ]
  },
  {
   "cell_type": "markdown",
   "id": "e9cec794",
   "metadata": {},
   "source": [
    "### Appendix"
   ]
  },
  {
   "cell_type": "markdown",
   "id": "fb4726e8",
   "metadata": {},
   "source": [
    "As mentioned in the Motivation section, I generated cross sectional plots with some form of regression to show the similarities of the wave equation with Gauss's law for electrostatics. I'll provide the code for the two dimensional case here."
   ]
  },
  {
   "cell_type": "markdown",
   "id": "0903f894",
   "metadata": {},
   "source": [
    "``` Julia\n",
    "T = 20\n",
    "L = 200\n",
    "n_t = 200 + 1\n",
    "n_x = 200 + 1\n",
    "n_y = 200 + 1\n",
    "ts = range(0, T; length=n_t)\n",
    "xs = range(-L/2, L/2; length=n_x)\n",
    "ys = range(-L/2, L/2; length=n_y)\n",
    "Δt = ts[2] - ts[1]\n",
    "Δx = xs[2] - xs[1]\n",
    "Δy = ys[2] - ys[1]\n",
    "c = 4\n",
    "\n",
    "u = zeros(n_t, n_x, n_y);\n",
    "\n",
    "function dirac_delta(x, y, x_point, y_point)\n",
    "    if x == x_point && y == y_point\n",
    "        return 1\n",
    "    else\n",
    "        return 0\n",
    "    end\n",
    "end\n",
    "\n",
    "# Set initial condition\n",
    "for x in 2:n_x-1, y in 2:n_y-1\n",
    "    #u[1,x,y] = f(1,x,y)\n",
    "    u[1,x,y] = dirac_delta(x, y, 100, 100) \n",
    "end\n",
    "\n",
    "for x in 2:n_x-1, y in 2:n_y-1\n",
    "    u[2,x,y] = (\n",
    "        0.5 * (c*(Δt/Δx))^2 * (u[1, x+1, y] - 2*u[1, x, y] + u[1, x-1, y]) \n",
    "        + 0.5 * (c*(Δt/Δy))^2 * (u[1, x, y+1] - 2*u[1, x, y] + u[1, x, y-1]) \n",
    "        + u[1, x, y]\n",
    "        + dirac_delta(x, y, 100, 100) \n",
    "    )\n",
    "end\n",
    "\n",
    "for t in 2:n_t-1, x in 2:n_x-1, y in 2:n_y-1\n",
    "    du_xx = (u[t, x+1, y] - 2*u[t, x, y] + u[t, x-1, y])/Δx^2\n",
    "    du_yy = (u[t, x, y+1] - 2*u[t, x, y] + u[t, x, y-1])/Δy^2\n",
    "    u[t+1, x, y] = c^2 * (Δt^2) *(du_xx + du_yy) + 2*u[t, x, y] - u[t-1, x, y] + dirac_delta(x, y, 100, 100) \n",
    "end\n",
    "\n",
    "using GLM, DataFrames, Plots\n",
    "df_all = DataFrame(x=xs, y=u[end,:,100])\n",
    "df_reg = DataFrame(x=xs[102:170], y=u[end,102:170,100])\n",
    "model = lm(@formula(y ~ -log(x)), df_reg)\n",
    "plot(df_all.x,df_all.y,label=\"V\")\n",
    "plot!(df_reg.x, predict(model, df_reg), label=\"logReg\",linewidth=4, thickness_scaling = 1, linecolor=\"red\")\n",
    "annotate!(10, 4, text(\"V = -$(round(GLM.coef(model)[2];digits=2))*ln(r) + $(round(GLM.coef(model)[1];digits=2))\", :red, :left, 12))\n",
    "#savefig(\"C:\\\\2_D_point.png\")\n",
    "```"
   ]
  }
 ],
 "metadata": {
  "@webio": {
   "lastCommId": null,
   "lastKernelId": null
  },
  "kernelspec": {
   "display_name": "Julia 1.7.3",
   "language": "julia",
   "name": "julia-1.7"
  },
  "language_info": {
   "file_extension": ".jl",
   "mimetype": "application/julia",
   "name": "julia",
   "version": "1.7.3"
  }
 },
 "nbformat": 4,
 "nbformat_minor": 5
}
